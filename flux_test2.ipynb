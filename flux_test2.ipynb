{
 "cells": [
  {
   "cell_type": "markdown",
   "metadata": {
    "collapsed": false
   },
   "source": [
    "# Machine learning toolbox Flux for julia\n",
    "\n",
    "## Simple neural network tests using Flux.jl, copied or heavilly inspired by the [Flux.jl tutorial](https://fluxml.ai/Flux.jl/stable/models/quickstart/)"
   ]
  },
  {
   "cell_type": "code",
   "execution_count": 0,
   "metadata": {
    "collapsed": false
   },
   "outputs": [
   ],
   "source": [
    "## Install Flux if needed\n",
    "#import Pkg\n",
    "#Pkg.add(\"Flux\")"
   ]
  },
  {
   "cell_type": "code",
   "execution_count": 0,
   "metadata": {
    "collapsed": false
   },
   "outputs": [
   ],
   "source": [
    "using Flux\n",
    "using LinearAlgebra"
   ]
  },
  {
   "cell_type": "markdown",
   "metadata": {
    "collapsed": false
   },
   "source": [
    "##  XOR classification classic"
   ]
  },
  {
   "cell_type": "code",
   "execution_count": 0,
   "metadata": {
    "collapsed": false
   },
   "outputs": [
   ],
   "source": [
    "# With Julia 1.7+, this will prompt if neccessary to install everything, including CUDA:\n",
    "using Flux, Statistics\n",
    "\n",
    "# Generate some data for the XOR problem: vectors of length 2, as columns of a matrix:\n",
    "noisy = rand(Float32, 2, 1000)                                    # 2×1000 Matrix{Float32}\n",
    "truth = map(col -> xor(col...), eachcol(noisy .> 0.5))            # 1000-element Vector{Bool}\n",
    "\n",
    "# Define our model, a multi-layer perceptron with one hidden layer of size 3:\n",
    "model = Chain(Dense(2 => 3, tanh), BatchNorm(3), Dense(3 => 2), softmax)\n",
    "\n",
    "# The model encapsulates parameters, randomly initialised. Its initial output is:\n",
    "out1 = model(noisy)                                               # 2×1000 Matrix{Float32}\n",
    "\n",
    "# To train the model, we use batches of 64 samples:\n",
    "mat = Flux.onehotbatch(truth, [true, false])                      # 2×1000 OneHotMatrix\n",
    "data = Flux.DataLoader((noisy, mat), batchsize=64, shuffle=true);\n",
    "first(data) .|> summary                                           # (\"2×64 Matrix{Float32}\", \"2×64 Matrix{Bool}\")\n",
    "\n",
    "pars = Flux.params(model)  # contains references to arrays in model\n",
    "opt = Flux.Adam(0.01)      # will store optimiser momentum, etc.\n",
    "\n",
    "# Training loop, using the whole data set 1000 times:\n",
    "for epoch in 1:1_000\n",
    "    Flux.train!(pars, data, opt) do x, y\n",
    "        # First argument of train! is a loss function, here defined by a `do` block.\n",
    "        # This gets x and y, each a 2×64 Matrix, from data, and compares:\n",
    "        Flux.crossentropy(model(x), y)\n",
    "    end\n",
    "end\n",
    "\n",
    "pars  # has changed!\n",
    "opt\n",
    "out2 = model(noisy)\n",
    "\n",
    "mean((out2[1,:] .> 0.5) .== truth)  # accuracy 94% so far!\n"
   ]
  },
  {
   "cell_type": "code",
   "execution_count": 0,
   "metadata": {
    "collapsed": false
   },
   "outputs": [
   ],
   "source": [
    "using Plots  # to draw the above figure\n",
    "\n",
    "p_true = scatter(noisy[1,:], noisy[2,:], zcolor=truth, title=\"True classification\", legend=false,clims=(0,1))\n",
    "p_raw =  scatter(noisy[1,:], noisy[2,:], zcolor=out1[1,:], title=\"Untrained network\",legend=false, clims=(0,1))\n",
    "p_done = scatter(noisy[1,:], noisy[2,:], zcolor=out2[1,:], title=\"Trained network\", legend=true,clims=(0,1),label=\"\")\n",
    "\n",
    "plot(p_true, p_raw, p_done, layout=(1,3), size=(1000,330))\n"
   ]
  },
  {
   "cell_type": "code",
   "execution_count": 0,
   "metadata": {
    "collapsed": false
   },
   "outputs": [
   ],
   "source": [
    "pars"
   ]
  },
  {
   "cell_type": "code",
   "execution_count": 0,
   "metadata": {
    "collapsed": false
   },
   "outputs": [
   ],
   "source": [
    "model([0.25 0.75 0.25 0.75 ; 0.25 0.25 0.75 0.75]) #apply the trained model, with one point in each colunm"
   ]
  },
  {
   "cell_type": "code",
   "execution_count": 0,
   "metadata": {
    "collapsed": false
   },
   "outputs": [
   ],
   "source": [
    "model # show summary"
   ]
  },
  {
   "cell_type": "code",
   "execution_count": 0,
   "metadata": {
    "collapsed": false
   },
   "outputs": [
   ],
   "source": [
    "data = Flux.DataLoader((rand(2,10), rand(1,10)), batchsize=10, shuffle=false)\n",
    "data"
   ]
  },
  {
   "cell_type": "code",
   "execution_count": 0,
   "metadata": {
    "collapsed": false
   },
   "outputs": [
   ],
   "source": [
   ]
  }
 ],
 "metadata": {
  "kernelspec": {
   "display_name": "Julia 1.8",
   "env": {
    "JULIA_DEPOT_PATH": "/home/user/.julia/:/ext/julia/depot/",
    "JULIA_PROJECT": "/home/user/.julia/environment/v1.8"
   },
   "language": "julia",
   "metadata": {
    "cocalc": {
     "description": "The Julia Programming Language",
     "priority": 10,
     "url": "https://julialang.org/"
    }
   },
   "name": "julia-1.8",
   "resource_dir": "/ext/jupyter/kernels/julia-1.8"
  },
  "language_info": {
   "file_extension": ".jl",
   "mimetype": "application/julia",
   "name": "julia",
   "version": "1.8.2"
  }
 },
 "nbformat": 4,
 "nbformat_minor": 4
}