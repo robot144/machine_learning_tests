{
 "cells": [
  {
   "cell_type": "markdown",
   "metadata": {
    "collapsed": false
   },
   "source": [
    "# Machine learning toolbox Flux for julia\n",
    "\n",
    "## Flux can compute derivates (backpropagation in ML lingo)"
   ]
  },
  {
   "cell_type": "code",
   "execution_count": null,
   "metadata": {
    "collapsed": false
   },
   "outputs": [],
   "source": [
    "## Install Flux if needed\n",
    "#import Pkg\n",
    "#Pkg.add(\"Lux\")\n",
    "#Pkg.add(\"Optimisers\")\n",
    "#Pkg.add(\"Zygote\")"
   ]
  },
  {
   "cell_type": "code",
   "execution_count": null,
   "metadata": {
    "collapsed": false
   },
   "outputs": [],
   "source": [
    "using Lux, Random, Optimisers, Zygote\n",
    "using LinearAlgebra\n",
    "using Plots"
   ]
  },
  {
   "cell_type": "markdown",
   "metadata": {
    "collapsed": false
   },
   "source": [
    "## Some derivatives of a function"
   ]
  },
  {
   "cell_type": "code",
   "execution_count": null,
   "metadata": {
    "collapsed": false
   },
   "outputs": [],
   "source": [
    "f(x) = 3x^2 + 2x + 1;\n",
    "println(\"f(x) =3x^2 + 2x +1\")\n",
    "println(\"f(x=2) = $(f(2))\")\n",
    "df(x) = gradient(f, x)[1]; # df/dx = 6x + 2\n",
    "println(\"df/fx(x=2) = $(df(2))\")\n",
    "d2f(x) = gradient(df, x)[1]; # d²f/dx² = 6\n",
    "println(\"d^2f/dx^2(x=2) = $(d2f(2))\")"
   ]
  },
  {
   "cell_type": "code",
   "execution_count": null,
   "metadata": {
    "collapsed": false
   },
   "outputs": [],
   "source": [
    "temp(x)=gradient(f,x)[1]\n",
    "temp(2.0)"
   ]
  },
  {
   "cell_type": "code",
   "execution_count": null,
   "metadata": {
    "collapsed": false
   },
   "outputs": [],
   "source": [
    "g(x,y)=sin(x)*cos(y) #more than one input variable\n",
    "dgdx(x,y)=gradient(g,x,y)[1]\n",
    "dgdx(1,2)\n",
    "d2gdx2(x,y)=gradient(dgdx,x,y)[1]\n",
    "d2gdx2(1,2)"
   ]
  },
  {
   "cell_type": "code",
   "execution_count": null,
   "metadata": {
    "collapsed": false
   },
   "outputs": [],
   "source": [
    "function h(x,alpha) # add a time loop\n",
    "    xt=x\n",
    "    dt=0.001\n",
    "    times=0:dt:(1.0-dt)\n",
    "    for t=times\n",
    "        xt=xt+alpha*xt*dt\n",
    "    end\n",
    "    return xt\n",
    "end\n",
    "\n",
    "dh(x,alpha)=gradient(h,x,alpha)\n",
    "h(1.0,-1.0), dh(1.0,-1.0),exp(-1.0)"
   ]
  },
  {
   "cell_type": "code",
   "execution_count": null,
   "metadata": {
    "collapsed": false
   },
   "outputs": [],
   "source": [
    "function mexp(x) # with a matrix\n",
    "    temp1=Matrix(1.0I,size(x)...)\n",
    "    temp2=temp1\n",
    "    i=2\n",
    "    while norm(temp1)>1.0e-3\n",
    "       temp1=temp1*x*i\n",
    "       i=i+1\n",
    "       temp2=temp2+temp1\n",
    "    end\n",
    "    return sum(temp2)\n",
    "end\n",
    "\n",
    "x1=0.01*randn(4,4)\n",
    "dmexp(x)=gradient(mexp,x)[1]\n",
    "x2=mexp(x1) \n",
    "x3=dmexp(x1)\n",
    "(x1,x2,x3)"
   ]
  },
  {
   "cell_type": "code",
   "execution_count": 46,
   "metadata": {
    "collapsed": false
   },
   "outputs": [
    {
     "ename": "MethodError",
     "evalue": "MethodError: no method matching (::Dense{true, typeof(NNlib.tanh_fast), typeof(Lux.glorot_uniform), typeof(Lux.zeros32)})(::Float64, ::NamedTuple{(:weight, :bias), Tuple{Matrix{Float32}, Matrix{Float32}}}, ::NamedTuple{(), Tuple{}})\nClosest candidates are:\n  (::Dense{true, F1, F2, F3} where {F1, F2, F3})(!Matched::AbstractMatrix{T} where T, ::Any, ::NamedTuple) at /home/verlaanm/.julia/packages/Lux/oZ6u5/src/layers/basic.jl:246\n  (::Dense{true, F1, F2, F3} where {F1, F2, F3})(!Matched::AbstractVector{T} where T, ::Any, ::NamedTuple) at /home/verlaanm/.julia/packages/Lux/oZ6u5/src/layers/basic.jl:238\n  (::Dense{true, F1, F2, F3} where {F1, F2, F3})(!Matched::AbstractArray, ::Any, ::NamedTuple) at /home/verlaanm/.julia/packages/Lux/oZ6u5/src/layers/basic.jl:254",
     "output_type": "error",
     "traceback": [
      "MethodError: no method matching (::Dense{true, typeof(NNlib.tanh_fast), typeof(Lux.glorot_uniform), typeof(Lux.zeros32)})(::Float64, ::NamedTuple{(:weight, :bias), Tuple{Matrix{Float32}, Matrix{Float32}}}, ::NamedTuple{(), Tuple{}})\n",
      "Closest candidates are:\n",
      "  (::Dense{true, F1, F2, F3} where {F1, F2, F3})(!Matched::AbstractMatrix{T} where T, ::Any, ::NamedTuple) at /home/verlaanm/.julia/packages/Lux/oZ6u5/src/layers/basic.jl:246\n",
      "  (::Dense{true, F1, F2, F3} where {F1, F2, F3})(!Matched::AbstractVector{T} where T, ::Any, ::NamedTuple) at /home/verlaanm/.julia/packages/Lux/oZ6u5/src/layers/basic.jl:238\n",
      "  (::Dense{true, F1, F2, F3} where {F1, F2, F3})(!Matched::AbstractArray, ::Any, ::NamedTuple) at /home/verlaanm/.julia/packages/Lux/oZ6u5/src/layers/basic.jl:254\n",
      "\n",
      "Stacktrace:\n",
      "  [1] apply(model::Dense{true, typeof(NNlib.tanh_fast), typeof(Lux.glorot_uniform), typeof(Lux.zeros32)}, x::Float64, ps::NamedTuple{(:weight, :bias), Tuple{Matrix{Float32}, Matrix{Float32}}}, st::NamedTuple{(), Tuple{}})\n",
      "    @ Lux ~/.julia/packages/Lux/oZ6u5/src/core.jl:86\n",
      "  [2] macro expansion\n",
      "    @ ~/.julia/packages/Lux/oZ6u5/src/layers/containers.jl:0 [inlined]\n",
      "  [3] applychain(layers::NamedTuple{(:layer_1, :layer_2), Tuple{Dense{true, typeof(NNlib.tanh_fast), typeof(Lux.glorot_uniform), typeof(Lux.zeros32)}, Dense{true, typeof(NNlib.tanh_fast), typeof(Lux.glorot_uniform), typeof(Lux.zeros32)}}}, x::Float64, ps::NamedTuple{(:layer_1, :layer_2), Tuple{NamedTuple{(:weight, :bias), Tuple{Matrix{Float32}, Matrix{Float32}}}, NamedTuple{(:weight, :bias), Tuple{Matrix{Float32}, Matrix{Float32}}}}}, st::NamedTuple{(:layer_1, :layer_2), Tuple{NamedTuple{(), Tuple{}}, NamedTuple{(), Tuple{}}}})\n",
      "    @ Lux ~/.julia/packages/Lux/oZ6u5/src/layers/containers.jl:460\n",
      "  [4] (::Chain{NamedTuple{(:layer_1, :layer_2), Tuple{Dense{true, typeof(NNlib.tanh_fast), typeof(Lux.glorot_uniform), typeof(Lux.zeros32)}, Dense{true, typeof(NNlib.tanh_fast), typeof(Lux.glorot_uniform), typeof(Lux.zeros32)}}}})(x::Float64, ps::NamedTuple{(:layer_1, :layer_2), Tuple{NamedTuple{(:weight, :bias), Tuple{Matrix{Float32}, Matrix{Float32}}}, NamedTuple{(:weight, :bias), Tuple{Matrix{Float32}, Matrix{Float32}}}}}, st::NamedTuple{(:layer_1, :layer_2), Tuple{NamedTuple{(), Tuple{}}, NamedTuple{(), Tuple{}}}})\n",
      "    @ Lux ~/.julia/packages/Lux/oZ6u5/src/layers/containers.jl:457\n",
      "  [5] apply(model::Chain{NamedTuple{(:layer_1, :layer_2), Tuple{Dense{true, typeof(NNlib.tanh_fast), typeof(Lux.glorot_uniform), typeof(Lux.zeros32)}, Dense{true, typeof(NNlib.tanh_fast), typeof(Lux.glorot_uniform), typeof(Lux.zeros32)}}}}, x::Float64, ps::NamedTuple{(:layer_1, :layer_2), Tuple{NamedTuple{(:weight, :bias), Tuple{Matrix{Float32}, Matrix{Float32}}}, NamedTuple{(:weight, :bias), Tuple{Matrix{Float32}, Matrix{Float32}}}}}, st::NamedTuple{(:layer_1, :layer_2), Tuple{NamedTuple{(), Tuple{}}, NamedTuple{(), Tuple{}}}})\n",
      "    @ Lux ~/.julia/packages/Lux/oZ6u5/src/core.jl:86\n",
      "  [6] u(x::Float64)\n",
      "    @ Main ~/src_nobackup/machine_learning_tests.git/lux_test1.ipynb:11\n",
      "  [7] _broadcast_getindex_evalf\n",
      "    @ ./broadcast.jl:648 [inlined]\n",
      "  [8] _broadcast_getindex\n",
      "    @ ./broadcast.jl:621 [inlined]\n",
      "  [9] getindex\n",
      "    @ ./broadcast.jl:575 [inlined]\n",
      " [10] copy\n",
      "    @ ./broadcast.jl:922 [inlined]\n",
      " [11] materialize(bc::Base.Broadcast.Broadcasted{Base.Broadcast.DefaultArrayStyle{1}, Nothing, typeof(u), Tuple{Vector{Float64}}})\n",
      "    @ Base.Broadcast ./broadcast.jl:883\n",
      " [12] top-level scope\n",
      "    @ ~/src_nobackup/machine_learning_tests.git/lux_test1.ipynb:15\n",
      " [13] eval\n",
      "    @ ./boot.jl:360 [inlined]\n",
      " [14] include_string(mapexpr::typeof(REPL.softscope), mod::Module, code::String, filename::String)\n",
      "    @ Base ./loading.jl:1116\n",
      " [15] #invokelatest#2\n",
      "    @ ./essentials.jl:708 [inlined]\n",
      " [16] invokelatest\n",
      "    @ ./essentials.jl:706 [inlined]\n",
      " [17] (::VSCodeServer.var\"#146#147\"{VSCodeServer.NotebookRunCellArguments, String})()\n",
      "    @ VSCodeServer ~/.vscode/extensions/julialang.language-julia-1.5.11/scripts/packages/VSCodeServer/src/serve_notebook.jl:18\n",
      " [18] withpath(f::VSCodeServer.var\"#146#147\"{VSCodeServer.NotebookRunCellArguments, String}, path::String)\n",
      "    @ VSCodeServer ~/.vscode/extensions/julialang.language-julia-1.5.11/scripts/packages/VSCodeServer/src/repl.jl:185\n",
      " [19] notebook_runcell_request(conn::VSCodeServer.JSONRPC.JSONRPCEndpoint{Base.PipeEndpoint, Base.PipeEndpoint}, params::VSCodeServer.NotebookRunCellArguments)\n",
      "    @ VSCodeServer ~/.vscode/extensions/julialang.language-julia-1.5.11/scripts/packages/VSCodeServer/src/serve_notebook.jl:14\n",
      " [20] dispatch_msg(x::VSCodeServer.JSONRPC.JSONRPCEndpoint{Base.PipeEndpoint, Base.PipeEndpoint}, dispatcher::VSCodeServer.JSONRPC.MsgDispatcher, msg::Dict{String, Any})\n",
      "    @ VSCodeServer.JSONRPC ~/.vscode/extensions/julialang.language-julia-1.5.11/scripts/packages/JSONRPC/src/typed.jl:67\n",
      " [21] serve_notebook(pipename::String; crashreporting_pipename::String)\n",
      "    @ VSCodeServer ~/.vscode/extensions/julialang.language-julia-1.5.11/scripts/packages/VSCodeServer/src/serve_notebook.jl:94\n",
      " [22] top-level scope\n",
      "    @ ~/.vscode/extensions/julialang.language-julia-1.5.11/scripts/notebook/notebook.jl:12\n",
      " [23] include(mod::Module, _path::String)\n",
      "    @ Base ./Base.jl:384\n",
      " [24] exec_options(opts::Base.JLOptions)\n",
      "    @ Base ./client.jl:285\n",
      " [25] _start()\n",
      "    @ Base ./client.jl:485"
     ]
    }
   ],
   "source": [
    "rng = Random.default_rng()\n",
    "Random.seed!(rng, 0)\n",
    "\n",
    "model = Chain(Dense(1, 10, tanh), Dense(10, 1, tanh))\n",
    "pars, state = Lux.setup(rng, model)\n",
    "\n",
    "model, pars, state\n",
    "\n",
    "x = collect(0.0:0.1:1.0)\n",
    "\n",
    "u(x) = Lux.apply(model, x, pars, state)[1][1]\n",
    "\n",
    "du(x) = gradient(u,x)[1][1]\n",
    "\n",
    "u.(x) #, (u.(x.+0.001).-u(x))./0.001 #compare to findiff\n",
    "\n"
   ]
  },
  {
   "cell_type": "code",
   "execution_count": null,
   "metadata": {
    "collapsed": false
   },
   "outputs": [],
   "source": []
  },
  {
   "cell_type": "code",
   "execution_count": null,
   "metadata": {},
   "outputs": [],
   "source": []
  }
 ],
 "metadata": {
  "kernelspec": {
   "display_name": "Julia 1.6.7",
   "language": "julia",
   "name": "julia-1.6"
  },
  "language_info": {
   "file_extension": ".jl",
   "mimetype": "application/julia",
   "name": "julia",
   "version": "1.6.7"
  }
 },
 "nbformat": 4,
 "nbformat_minor": 4
}
