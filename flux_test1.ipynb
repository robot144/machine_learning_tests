{
 "cells": [
  {
   "cell_type": "markdown",
   "metadata": {
    "collapsed": false
   },
   "source": [
    "# Machine learning toolbox Flux for julia\n",
    "\n",
    "## Flux can compute derivates (backpropagation in ML lingo)"
   ]
  },
  {
   "cell_type": "code",
   "execution_count": 1,
   "metadata": {
    "collapsed": false
   },
   "outputs": [
    {
     "name": "stderr",
     "output_type": "stream",
     "text": [
      "\u001b[32m\u001b[1m   Resolving\u001b[22m\u001b[39m package versions...\n"
     ]
    },
    {
     "name": "stderr",
     "output_type": "stream",
     "text": [
      "\u001b[32m\u001b[1m  No Changes\u001b[22m\u001b[39m to `~/.julia/environment/v1.8/Project.toml`\n",
      "\u001b[32m\u001b[1m  No Changes\u001b[22m\u001b[39m to `~/.julia/environment/v1.8/Manifest.toml`\n"
     ]
    }
   ],
   "source": [
    "## Install Flux if needed\n",
    "#import Pkg\n",
    "#Pkg.add(\"Flux\")"
   ]
  },
  {
   "cell_type": "code",
   "execution_count": 40,
   "metadata": {
    "collapsed": false
   },
   "outputs": [
   ],
   "source": [
    "using Flux\n",
    "using LinearAlgebra"
   ]
  },
  {
   "cell_type": "markdown",
   "metadata": {
    "collapsed": false
   },
   "source": [
    "## Some derivatives of a function"
   ]
  },
  {
   "cell_type": "code",
   "execution_count": 10,
   "metadata": {
    "collapsed": false
   },
   "outputs": [
    {
     "name": "stdout",
     "output_type": "stream",
     "text": [
      "f(x) =3x^2 + 2x +1\n",
      "f(x=2) = 17\n",
      "df/fx(x=2) = 14.0\n"
     ]
    },
    {
     "name": "stdout",
     "output_type": "stream",
     "text": [
      "d^2f/dx^2(x=2) = 6.0\n"
     ]
    }
   ],
   "source": [
    "f(x) = 3x^2 + 2x + 1;\n",
    "println(\"f(x) =3x^2 + 2x +1\")\n",
    "println(\"f(x=2) = $(f(2))\")\n",
    "df(x) = gradient(f, x)[1]; # df/dx = 6x + 2\n",
    "println(\"df/fx(x=2) = $(df(2))\")\n",
    "d2f(x) = gradient(df, x)[1]; # d²f/dx² = 6\n",
    "println(\"d^2f/dx^2(x=2) = $(d2f(2))\")"
   ]
  },
  {
   "cell_type": "code",
   "execution_count": 13,
   "metadata": {
    "collapsed": false
   },
   "outputs": [
    {
     "data": {
      "text/plain": [
       "14.0"
      ]
     },
     "execution_count": 13,
     "metadata": {
     },
     "output_type": "execute_result"
    }
   ],
   "source": [
    "temp(x)=gradient(f,x)[1]\n",
    "temp(2.0)"
   ]
  },
  {
   "cell_type": "code",
   "execution_count": 20,
   "metadata": {
    "collapsed": false
   },
   "outputs": [
    {
     "data": {
      "text/plain": [
       "(-0.2248450953661529, -0.7651474012342926)"
      ]
     },
     "execution_count": 20,
     "metadata": {
     },
     "output_type": "execute_result"
    }
   ],
   "source": [
    "g(x,y)=sin(x)*cos(y) #more than one input variable\n",
    "dg(x,y)=gradient(g,x,y)\n",
    "dg(1,2)"
   ]
  },
  {
   "cell_type": "code",
   "execution_count": 27,
   "metadata": {
    "collapsed": false
   },
   "outputs": [
    {
     "data": {
      "text/plain": [
       "(0.36769542477096373, (0.36769542477096373, 0.36806348825922597), 0.36787944117144233)"
      ]
     },
     "execution_count": 27,
     "metadata": {
     },
     "output_type": "execute_result"
    }
   ],
   "source": [
    "function h(x,alpha) # add a time loop\n",
    "    xt=x\n",
    "    dt=0.001\n",
    "    times=0:dt:(1.0-dt)\n",
    "    for t=times\n",
    "        xt=xt+alpha*xt*dt\n",
    "    end\n",
    "    return xt\n",
    "end\n",
    "\n",
    "dh(x,alpha)=gradient(h,x,alpha)\n",
    "h(1.0,-1.0), dh(1.0,-1.0),exp(-1.0)"
   ]
  },
  {
   "cell_type": "code",
   "execution_count": 55,
   "metadata": {
    "collapsed": false
   },
   "outputs": [
    {
     "data": {
      "text/plain": [
       "([-0.0019084274980003869 -0.01700670557241718 -0.01748403010676393 -0.0022729942699683792; 0.0006911504550853378 -0.005705334484266939 -0.0019371309097093506 0.0016779100613426834; 0.004036742431328713 0.01949706780517027 -0.0017893973864147486 0.023106420714775932; 0.007173993649352173 -0.0037878688598090016 -0.005118827086382349 -0.00038045008238714507], 3.987974875546951, [1.804557031284852 2.0256515530508286 2.331196385055275 2.0357909716782405; 1.7002161073231465 1.907686903730449 2.192785497303415 1.9165372199576596; 1.6141907252648204 1.806169942303215 2.068019056228149 1.8135544162867214; 1.8498004751140131 2.0806239952983043 2.400769930607706 2.091683989970991])"
      ]
     },
     "execution_count": 55,
     "metadata": {
     },
     "output_type": "execute_result"
    }
   ],
   "source": [
    "function mexp(x) # with a matrix\n",
    "    temp1=Matrix(1.0I,size(x)...)\n",
    "    temp2=temp1\n",
    "    i=2\n",
    "    while norm(temp1)>1.0e-3\n",
    "       temp1=temp1*x*i\n",
    "       i=i+1\n",
    "       temp2=temp2+temp1\n",
    "    end\n",
    "    return sum(temp2)\n",
    "end\n",
    "\n",
    "x1=0.01*randn(4,4)\n",
    "dmexp(x)=gradient(mexp,x)[1]\n",
    "x2=mexp(x1) \n",
    "x3=dmexp(x1)\n",
    "(x1,x2,x3)"
   ]
  },
  {
   "cell_type": "code",
   "execution_count": 0,
   "metadata": {
    "collapsed": false
   },
   "outputs": [
   ],
   "source": [
   ]
  },
  {
   "cell_type": "code",
   "execution_count": 0,
   "metadata": {
    "collapsed": false
   },
   "outputs": [
   ],
   "source": [
   ]
  }
 ],
 "metadata": {
  "kernelspec": {
   "display_name": "Julia 1.8",
   "env": {
    "JULIA_DEPOT_PATH": "/home/user/.julia/:/ext/julia/depot/",
    "JULIA_PROJECT": "/home/user/.julia/environment/v1.8"
   },
   "language": "julia",
   "metadata": {
    "cocalc": {
     "description": "The Julia Programming Language",
     "priority": 10,
     "url": "https://julialang.org/"
    }
   },
   "name": "julia-1.8",
   "resource_dir": "/ext/jupyter/kernels/julia-1.8"
  },
  "language_info": {
   "file_extension": ".jl",
   "mimetype": "application/julia",
   "name": "julia",
   "version": "1.8.2"
  }
 },
 "nbformat": 4,
 "nbformat_minor": 4
}