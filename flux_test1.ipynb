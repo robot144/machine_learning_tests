{
 "cells": [
  {
   "cell_type": "markdown",
   "metadata": {
    "collapsed": false
   },
   "source": [
    "# Machine learning toolbox Flux for julia\n",
    "\n",
    "## Flux can compute derivates (backpropagation in ML lingo)"
   ]
  },
  {
   "cell_type": "code",
   "execution_count": 0,
   "metadata": {
    "collapsed": false
   },
   "outputs": [
   ],
   "source": [
    "## Install Flux if needed\n",
    "#import Pkg\n",
    "#Pkg.add(\"Flux\")"
   ]
  },
  {
   "cell_type": "code",
   "execution_count": 0,
   "metadata": {
    "collapsed": false
   },
   "outputs": [
   ],
   "source": [
    "using Flux\n",
    "using LinearAlgebra"
   ]
  },
  {
   "cell_type": "markdown",
   "metadata": {
    "collapsed": false
   },
   "source": [
    "## Some derivatives of a function"
   ]
  },
  {
   "cell_type": "code",
   "execution_count": 0,
   "metadata": {
    "collapsed": false
   },
   "outputs": [
   ],
   "source": [
    "f(x) = 3x^2 + 2x + 1;\n",
    "println(\"f(x) =3x^2 + 2x +1\")\n",
    "println(\"f(x=2) = $(f(2))\")\n",
    "df(x) = gradient(f, x)[1]; # df/dx = 6x + 2\n",
    "println(\"df/fx(x=2) = $(df(2))\")\n",
    "d2f(x) = gradient(df, x)[1]; # d²f/dx² = 6\n",
    "println(\"d^2f/dx^2(x=2) = $(d2f(2))\")"
   ]
  },
  {
   "cell_type": "code",
   "execution_count": 0,
   "metadata": {
    "collapsed": false
   },
   "outputs": [
   ],
   "source": [
    "temp(x)=gradient(f,x)[1]\n",
    "temp(2.0)"
   ]
  },
  {
   "cell_type": "code",
   "execution_count": 0,
   "metadata": {
    "collapsed": false
   },
   "outputs": [
   ],
   "source": [
    "g(x,y)=sin(x)*cos(y) #more than one input variable\n",
    "dgdx(x,y)=gradient(g,x,y)[1]\n",
    "dgdx(1,2)\n",
    "d2gdx2(x,y)=gradient(dgdx,x,y)[1]\n",
    "d2gdx2(1,2)"
   ]
  },
  {
   "cell_type": "code",
   "execution_count": 0,
   "metadata": {
    "collapsed": false
   },
   "outputs": [
   ],
   "source": [
    "function h(x,alpha) # add a time loop\n",
    "    xt=x\n",
    "    dt=0.001\n",
    "    times=0:dt:(1.0-dt)\n",
    "    for t=times\n",
    "        xt=xt+alpha*xt*dt\n",
    "    end\n",
    "    return xt\n",
    "end\n",
    "\n",
    "dh(x,alpha)=gradient(h,x,alpha)\n",
    "h(1.0,-1.0), dh(1.0,-1.0),exp(-1.0)"
   ]
  },
  {
   "cell_type": "code",
   "execution_count": 0,
   "metadata": {
    "collapsed": false
   },
   "outputs": [
   ],
   "source": [
    "function mexp(x) # with a matrix\n",
    "    temp1=Matrix(1.0I,size(x)...)\n",
    "    temp2=temp1\n",
    "    i=2\n",
    "    while norm(temp1)>1.0e-3\n",
    "       temp1=temp1*x*i\n",
    "       i=i+1\n",
    "       temp2=temp2+temp1\n",
    "    end\n",
    "    return sum(temp2)\n",
    "end\n",
    "\n",
    "x1=0.01*randn(4,4)\n",
    "dmexp(x)=gradient(mexp,x)[1]\n",
    "x2=mexp(x1) \n",
    "x3=dmexp(x1)\n",
    "(x1,x2,x3)"
   ]
  },
  {
   "cell_type": "code",
   "execution_count": 0,
   "metadata": {
    "collapsed": false
   },
   "outputs": [
   ],
   "source": [
   ]
  },
  {
   "cell_type": "code",
   "execution_count": 0,
   "metadata": {
    "collapsed": false
   },
   "outputs": [
   ],
   "source": [
   ]
  }
 ],
 "metadata": {
  "kernelspec": {
   "display_name": "Julia 1.8",
   "env": {
    "JULIA_DEPOT_PATH": "/home/user/.julia/:/ext/julia/depot/",
    "JULIA_PROJECT": "/home/user/.julia/environment/v1.8"
   },
   "language": "julia",
   "metadata": {
    "cocalc": {
     "description": "The Julia Programming Language",
     "priority": 10,
     "url": "https://julialang.org/"
    }
   },
   "name": "julia-1.8",
   "resource_dir": "/ext/jupyter/kernels/julia-1.8"
  },
  "language_info": {
   "file_extension": ".jl",
   "mimetype": "application/julia",
   "name": "julia",
   "version": "1.8.2"
  }
 },
 "nbformat": 4,
 "nbformat_minor": 4
}